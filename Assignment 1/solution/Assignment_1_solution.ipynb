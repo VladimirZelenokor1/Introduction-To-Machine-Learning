{
  "cells": [
    {
      "cell_type": "code",
      "execution_count": 119,
      "metadata": {
        "id": "TktKWVuzXJbZ"
      },
      "outputs": [],
      "source": [
        "# Vladimir Zelenokor\n",
        "# keksikoz.hs@yandex.ru"
      ]
    },
    {
      "cell_type": "code",
      "execution_count": 120,
      "metadata": {
        "id": "arQ_LN-tXJbc"
      },
      "outputs": [],
      "source": [
        "import pandas as pd\n",
        "import numpy as np\n",
        "import seaborn as sns\n",
        "import matplotlib.pyplot as plt"
      ]
    },
    {
      "cell_type": "code",
      "execution_count": 121,
      "metadata": {
        "colab": {
          "base_uri": "https://localhost:8080/"
        },
        "id": "FhtJqoufXJbd",
        "outputId": "b178376d-3a8e-47a0-d00d-46d52531eb9c"
      },
      "outputs": [
        {
          "output_type": "stream",
          "name": "stdout",
          "text": [
            "     target    var1     var2                         var3   var4    var5 var6\n",
            "0         0  509.18  417.681                   Micronesia  138.0  393.00   no\n",
            "1         0  446.06  666.182                     Dominica   81.0  352.05  yes\n",
            "2         1  235.50  398.097                  Isle of Man   90.0  339.00   no\n",
            "3         0  306.02  518.163                 Turkmenistan  102.0  439.25  yes\n",
            "4         0  453.08  600.156                     Cameroon  105.0  422.95   no\n",
            "..      ...     ...      ...                          ...    ...     ...  ...\n",
            "910       0  461.74  624.910                      Burundi    NaN  415.35   no\n",
            "911       1  246.16  610.045                      Hungary    NaN  245.95  yes\n",
            "912       1  278.64  376.051                       Cyprus    NaN  209.20  yes\n",
            "913       0  392.46  680.949                        Qatar    NaN  401.15  yes\n",
            "914       0  425.12  676.691  French Southern Territories    NaN  373.25  yes\n",
            "\n",
            "[915 rows x 7 columns]\n"
          ]
        }
      ],
      "source": [
        "dataset =  pd.read_csv(\"a1_dataset.csv\")\n",
        "dataset = dataset.drop(['var7'], axis = 1) # Droping useless column\n",
        "print(dataset.head(-10)) # Show the Data after deleting the dates"
      ]
    },
    {
      "cell_type": "code",
      "execution_count": 122,
      "metadata": {
        "colab": {
          "base_uri": "https://localhost:8080/"
        },
        "id": "IZ3VyrBSXJbe",
        "outputId": "24ca0ab0-0d01-4196-aa3e-2db0f634d278"
      },
      "outputs": [
        {
          "output_type": "stream",
          "name": "stdout",
          "text": [
            "(925, 7)\n",
            "     target    var1     var2   var4    var5  var6_yes  var3\n",
            "0         0  509.18  417.681  138.0  393.00         0   137\n",
            "1         0  446.06  666.182   81.0  352.05         1    57\n",
            "2         1  235.50  398.097   90.0  339.00         0   101\n",
            "3         0  306.02  518.163  102.0  439.25         1   216\n",
            "4         0  453.08  600.156  105.0  422.95         0    36\n",
            "..      ...     ...      ...    ...     ...       ...   ...\n",
            "910       0  461.74  624.910    NaN  415.35         0    34\n",
            "911       1  246.16  610.045    NaN  245.95         1    95\n",
            "912       1  278.64  376.051    NaN  209.20         1    53\n",
            "913       0  392.46  680.949    NaN  401.15         1   171\n",
            "914       0  425.12  676.691    NaN  373.25         1    73\n",
            "\n",
            "[915 rows x 7 columns]\n"
          ]
        },
        {
          "output_type": "stream",
          "name": "stderr",
          "text": [
            "/usr/local/lib/python3.10/dist-packages/sklearn/preprocessing/_encoders.py:868: FutureWarning: `sparse` was renamed to `sparse_output` in version 1.2 and will be removed in 1.4. `sparse_output` is ignored unless you leave `sparse` to its default value.\n",
            "  warnings.warn(\n"
          ]
        }
      ],
      "source": [
        "from sklearn.preprocessing import OneHotEncoder, OrdinalEncoder\n",
        "# Encoding categorical values\n",
        "# I applied One-Hot encoding on var6 and Ordinal encoding on var3\n",
        "\n",
        "def ohe_new_features(df, features_name, encoder): # The function for One-Hot encoding\n",
        "    new_feats = encoder.transform(df[features_name])\n",
        "    new_cols = pd.DataFrame(new_feats, dtype=int, columns=encoder.get_feature_names_out(features_name))\n",
        "    new_df = pd.concat([df, new_cols], axis=1)\n",
        "    new_df.drop(features_name, axis=1, inplace=True)\n",
        "    return new_df\n",
        "\n",
        "def oe_new_features(df, features_name, encoder): # The function for Ordinal encoding\n",
        "    new_feats = encoder.transform(df[features_name])\n",
        "    new_cols = pd.DataFrame(new_feats, dtype=int, columns=features_name)\n",
        "    new_df = df.copy()\n",
        "    new_df.drop(features_name, axis=1, inplace=True)\n",
        "    new_df = pd.concat([new_df, new_cols], axis=1)\n",
        "    return new_df\n",
        "\n",
        "encoder = OneHotEncoder(sparse = False, drop ='first')\n",
        "f_name = ['var6']\n",
        "encoder.fit(dataset[f_name])\n",
        "dataset = ohe_new_features(dataset, f_name, encoder)\n",
        "\n",
        "encoder = OrdinalEncoder()\n",
        "f_name = ['var3']\n",
        "encoder.fit(dataset[f_name])\n",
        "dataset = oe_new_features(dataset, f_name, encoder)\n",
        "\n",
        "print(dataset.shape)\n",
        "print(dataset.head(-10))"
      ]
    },
    {
      "cell_type": "code",
      "execution_count": 123,
      "metadata": {
        "id": "TIYnQd8vXJbe"
      },
      "outputs": [],
      "source": [
        "# I made a copy of the initial dataset to leave it unchanged."
      ]
    },
    {
      "cell_type": "code",
      "execution_count": 124,
      "metadata": {
        "colab": {
          "base_uri": "https://localhost:8080/"
        },
        "id": "N6vvl1w3XJbf",
        "outputId": "bde578c1-cf00-4efb-9797-49bb09fe3c99"
      },
      "outputs": [
        {
          "output_type": "stream",
          "name": "stdout",
          "text": [
            "Score of LinearFegression as var 4 the target is :0.31854379960373524\n",
            "the intercept value is: [51.32164802]\n",
            "the coefiants are:  [[ 4.00948793e+01  4.29607301e-02  1.42108337e-03  5.63135323e-02\n",
            "  -1.50582397e+00  3.11710851e-02]]\n"
          ]
        }
      ],
      "source": [
        "# Data imputation with LR\n",
        "# I applied LR and the target is var4\n",
        "\n",
        "from sklearn.model_selection import train_test_split\n",
        "dataset1 = dataset.copy()\n",
        "dataset1 = dataset1.dropna(axis=0) # I droped all the row that has var4 = NaN because I need ready data for train and test LR\n",
        "\n",
        "X = dataset1.iloc[:,dataset1.columns != 'var4'].values\n",
        "y = dataset1.iloc[:,dataset1.columns == 'var4'].values\n",
        "X_train, X_test, y_train, y_test = train_test_split(X, y, test_size=0.2, random_state=0)\n",
        "\n",
        "from sklearn.linear_model import LinearRegression\n",
        "regressor = LinearRegression()\n",
        "regressor.fit(X_train, y_train)\n",
        "score = regressor.score(X_test,y_test)\n",
        "print (f\"Score of LinearFegression as var 4 the target is :{score}\")\n",
        "print(\"the intercept value is:\",regressor.intercept_)\n",
        "print(\"the coefiants are: \",regressor.coef_)\n",
        "\n"
      ]
    },
    {
      "cell_type": "code",
      "execution_count": 125,
      "metadata": {
        "colab": {
          "base_uri": "https://localhost:8080/",
          "height": 442
        },
        "id": "I3fS0E4fXJbf",
        "outputId": "c02dcf04-cb85-491e-ddce-68d303321eab"
      },
      "outputs": [
        {
          "output_type": "stream",
          "name": "stdout",
          "text": [
            "comparison between the Actural and Predicted values from the previous LR:\n"
          ]
        },
        {
          "output_type": "execute_result",
          "data": {
            "text/plain": [
              "    Actual   Predicted\n",
              "0    132.0   93.233321\n",
              "1     87.0   96.132037\n",
              "2     93.0   94.802366\n",
              "3     66.0   89.077785\n",
              "4     78.0   93.309611\n",
              "..     ...         ...\n",
              "60    90.0   92.336710\n",
              "61    81.0   96.495075\n",
              "62   117.0  119.856012\n",
              "63    81.0   91.356495\n",
              "64    96.0   94.044863\n",
              "\n",
              "[65 rows x 2 columns]"
            ],
            "text/html": [
              "\n",
              "  <div id=\"df-b5f1dbd0-9672-4561-89b6-82609fe4ad0e\" class=\"colab-df-container\">\n",
              "    <div>\n",
              "<style scoped>\n",
              "    .dataframe tbody tr th:only-of-type {\n",
              "        vertical-align: middle;\n",
              "    }\n",
              "\n",
              "    .dataframe tbody tr th {\n",
              "        vertical-align: top;\n",
              "    }\n",
              "\n",
              "    .dataframe thead th {\n",
              "        text-align: right;\n",
              "    }\n",
              "</style>\n",
              "<table border=\"1\" class=\"dataframe\">\n",
              "  <thead>\n",
              "    <tr style=\"text-align: right;\">\n",
              "      <th></th>\n",
              "      <th>Actual</th>\n",
              "      <th>Predicted</th>\n",
              "    </tr>\n",
              "  </thead>\n",
              "  <tbody>\n",
              "    <tr>\n",
              "      <th>0</th>\n",
              "      <td>132.0</td>\n",
              "      <td>93.233321</td>\n",
              "    </tr>\n",
              "    <tr>\n",
              "      <th>1</th>\n",
              "      <td>87.0</td>\n",
              "      <td>96.132037</td>\n",
              "    </tr>\n",
              "    <tr>\n",
              "      <th>2</th>\n",
              "      <td>93.0</td>\n",
              "      <td>94.802366</td>\n",
              "    </tr>\n",
              "    <tr>\n",
              "      <th>3</th>\n",
              "      <td>66.0</td>\n",
              "      <td>89.077785</td>\n",
              "    </tr>\n",
              "    <tr>\n",
              "      <th>4</th>\n",
              "      <td>78.0</td>\n",
              "      <td>93.309611</td>\n",
              "    </tr>\n",
              "    <tr>\n",
              "      <th>...</th>\n",
              "      <td>...</td>\n",
              "      <td>...</td>\n",
              "    </tr>\n",
              "    <tr>\n",
              "      <th>60</th>\n",
              "      <td>90.0</td>\n",
              "      <td>92.336710</td>\n",
              "    </tr>\n",
              "    <tr>\n",
              "      <th>61</th>\n",
              "      <td>81.0</td>\n",
              "      <td>96.495075</td>\n",
              "    </tr>\n",
              "    <tr>\n",
              "      <th>62</th>\n",
              "      <td>117.0</td>\n",
              "      <td>119.856012</td>\n",
              "    </tr>\n",
              "    <tr>\n",
              "      <th>63</th>\n",
              "      <td>81.0</td>\n",
              "      <td>91.356495</td>\n",
              "    </tr>\n",
              "    <tr>\n",
              "      <th>64</th>\n",
              "      <td>96.0</td>\n",
              "      <td>94.044863</td>\n",
              "    </tr>\n",
              "  </tbody>\n",
              "</table>\n",
              "<p>65 rows × 2 columns</p>\n",
              "</div>\n",
              "    <div class=\"colab-df-buttons\">\n",
              "\n",
              "  <div class=\"colab-df-container\">\n",
              "    <button class=\"colab-df-convert\" onclick=\"convertToInteractive('df-b5f1dbd0-9672-4561-89b6-82609fe4ad0e')\"\n",
              "            title=\"Convert this dataframe to an interactive table.\"\n",
              "            style=\"display:none;\">\n",
              "\n",
              "  <svg xmlns=\"http://www.w3.org/2000/svg\" height=\"24px\" viewBox=\"0 -960 960 960\">\n",
              "    <path d=\"M120-120v-720h720v720H120Zm60-500h600v-160H180v160Zm220 220h160v-160H400v160Zm0 220h160v-160H400v160ZM180-400h160v-160H180v160Zm440 0h160v-160H620v160ZM180-180h160v-160H180v160Zm440 0h160v-160H620v160Z\"/>\n",
              "  </svg>\n",
              "    </button>\n",
              "\n",
              "  <style>\n",
              "    .colab-df-container {\n",
              "      display:flex;\n",
              "      gap: 12px;\n",
              "    }\n",
              "\n",
              "    .colab-df-convert {\n",
              "      background-color: #E8F0FE;\n",
              "      border: none;\n",
              "      border-radius: 50%;\n",
              "      cursor: pointer;\n",
              "      display: none;\n",
              "      fill: #1967D2;\n",
              "      height: 32px;\n",
              "      padding: 0 0 0 0;\n",
              "      width: 32px;\n",
              "    }\n",
              "\n",
              "    .colab-df-convert:hover {\n",
              "      background-color: #E2EBFA;\n",
              "      box-shadow: 0px 1px 2px rgba(60, 64, 67, 0.3), 0px 1px 3px 1px rgba(60, 64, 67, 0.15);\n",
              "      fill: #174EA6;\n",
              "    }\n",
              "\n",
              "    .colab-df-buttons div {\n",
              "      margin-bottom: 4px;\n",
              "    }\n",
              "\n",
              "    [theme=dark] .colab-df-convert {\n",
              "      background-color: #3B4455;\n",
              "      fill: #D2E3FC;\n",
              "    }\n",
              "\n",
              "    [theme=dark] .colab-df-convert:hover {\n",
              "      background-color: #434B5C;\n",
              "      box-shadow: 0px 1px 3px 1px rgba(0, 0, 0, 0.15);\n",
              "      filter: drop-shadow(0px 1px 2px rgba(0, 0, 0, 0.3));\n",
              "      fill: #FFFFFF;\n",
              "    }\n",
              "  </style>\n",
              "\n",
              "    <script>\n",
              "      const buttonEl =\n",
              "        document.querySelector('#df-b5f1dbd0-9672-4561-89b6-82609fe4ad0e button.colab-df-convert');\n",
              "      buttonEl.style.display =\n",
              "        google.colab.kernel.accessAllowed ? 'block' : 'none';\n",
              "\n",
              "      async function convertToInteractive(key) {\n",
              "        const element = document.querySelector('#df-b5f1dbd0-9672-4561-89b6-82609fe4ad0e');\n",
              "        const dataTable =\n",
              "          await google.colab.kernel.invokeFunction('convertToInteractive',\n",
              "                                                    [key], {});\n",
              "        if (!dataTable) return;\n",
              "\n",
              "        const docLinkHtml = 'Like what you see? Visit the ' +\n",
              "          '<a target=\"_blank\" href=https://colab.research.google.com/notebooks/data_table.ipynb>data table notebook</a>'\n",
              "          + ' to learn more about interactive tables.';\n",
              "        element.innerHTML = '';\n",
              "        dataTable['output_type'] = 'display_data';\n",
              "        await google.colab.output.renderOutput(dataTable, element);\n",
              "        const docLink = document.createElement('div');\n",
              "        docLink.innerHTML = docLinkHtml;\n",
              "        element.appendChild(docLink);\n",
              "      }\n",
              "    </script>\n",
              "  </div>\n",
              "\n",
              "\n",
              "<div id=\"df-d32ceb53-e022-43d3-b5ff-5970d7205759\">\n",
              "  <button class=\"colab-df-quickchart\" onclick=\"quickchart('df-d32ceb53-e022-43d3-b5ff-5970d7205759')\"\n",
              "            title=\"Suggest charts\"\n",
              "            style=\"display:none;\">\n",
              "\n",
              "<svg xmlns=\"http://www.w3.org/2000/svg\" height=\"24px\"viewBox=\"0 0 24 24\"\n",
              "     width=\"24px\">\n",
              "    <g>\n",
              "        <path d=\"M19 3H5c-1.1 0-2 .9-2 2v14c0 1.1.9 2 2 2h14c1.1 0 2-.9 2-2V5c0-1.1-.9-2-2-2zM9 17H7v-7h2v7zm4 0h-2V7h2v10zm4 0h-2v-4h2v4z\"/>\n",
              "    </g>\n",
              "</svg>\n",
              "  </button>\n",
              "\n",
              "<style>\n",
              "  .colab-df-quickchart {\n",
              "      --bg-color: #E8F0FE;\n",
              "      --fill-color: #1967D2;\n",
              "      --hover-bg-color: #E2EBFA;\n",
              "      --hover-fill-color: #174EA6;\n",
              "      --disabled-fill-color: #AAA;\n",
              "      --disabled-bg-color: #DDD;\n",
              "  }\n",
              "\n",
              "  [theme=dark] .colab-df-quickchart {\n",
              "      --bg-color: #3B4455;\n",
              "      --fill-color: #D2E3FC;\n",
              "      --hover-bg-color: #434B5C;\n",
              "      --hover-fill-color: #FFFFFF;\n",
              "      --disabled-bg-color: #3B4455;\n",
              "      --disabled-fill-color: #666;\n",
              "  }\n",
              "\n",
              "  .colab-df-quickchart {\n",
              "    background-color: var(--bg-color);\n",
              "    border: none;\n",
              "    border-radius: 50%;\n",
              "    cursor: pointer;\n",
              "    display: none;\n",
              "    fill: var(--fill-color);\n",
              "    height: 32px;\n",
              "    padding: 0;\n",
              "    width: 32px;\n",
              "  }\n",
              "\n",
              "  .colab-df-quickchart:hover {\n",
              "    background-color: var(--hover-bg-color);\n",
              "    box-shadow: 0 1px 2px rgba(60, 64, 67, 0.3), 0 1px 3px 1px rgba(60, 64, 67, 0.15);\n",
              "    fill: var(--button-hover-fill-color);\n",
              "  }\n",
              "\n",
              "  .colab-df-quickchart-complete:disabled,\n",
              "  .colab-df-quickchart-complete:disabled:hover {\n",
              "    background-color: var(--disabled-bg-color);\n",
              "    fill: var(--disabled-fill-color);\n",
              "    box-shadow: none;\n",
              "  }\n",
              "\n",
              "  .colab-df-spinner {\n",
              "    border: 2px solid var(--fill-color);\n",
              "    border-color: transparent;\n",
              "    border-bottom-color: var(--fill-color);\n",
              "    animation:\n",
              "      spin 1s steps(1) infinite;\n",
              "  }\n",
              "\n",
              "  @keyframes spin {\n",
              "    0% {\n",
              "      border-color: transparent;\n",
              "      border-bottom-color: var(--fill-color);\n",
              "      border-left-color: var(--fill-color);\n",
              "    }\n",
              "    20% {\n",
              "      border-color: transparent;\n",
              "      border-left-color: var(--fill-color);\n",
              "      border-top-color: var(--fill-color);\n",
              "    }\n",
              "    30% {\n",
              "      border-color: transparent;\n",
              "      border-left-color: var(--fill-color);\n",
              "      border-top-color: var(--fill-color);\n",
              "      border-right-color: var(--fill-color);\n",
              "    }\n",
              "    40% {\n",
              "      border-color: transparent;\n",
              "      border-right-color: var(--fill-color);\n",
              "      border-top-color: var(--fill-color);\n",
              "    }\n",
              "    60% {\n",
              "      border-color: transparent;\n",
              "      border-right-color: var(--fill-color);\n",
              "    }\n",
              "    80% {\n",
              "      border-color: transparent;\n",
              "      border-right-color: var(--fill-color);\n",
              "      border-bottom-color: var(--fill-color);\n",
              "    }\n",
              "    90% {\n",
              "      border-color: transparent;\n",
              "      border-bottom-color: var(--fill-color);\n",
              "    }\n",
              "  }\n",
              "</style>\n",
              "\n",
              "  <script>\n",
              "    async function quickchart(key) {\n",
              "      const quickchartButtonEl =\n",
              "        document.querySelector('#' + key + ' button');\n",
              "      quickchartButtonEl.disabled = true;  // To prevent multiple clicks.\n",
              "      quickchartButtonEl.classList.add('colab-df-spinner');\n",
              "      try {\n",
              "        const charts = await google.colab.kernel.invokeFunction(\n",
              "            'suggestCharts', [key], {});\n",
              "      } catch (error) {\n",
              "        console.error('Error during call to suggestCharts:', error);\n",
              "      }\n",
              "      quickchartButtonEl.classList.remove('colab-df-spinner');\n",
              "      quickchartButtonEl.classList.add('colab-df-quickchart-complete');\n",
              "    }\n",
              "    (() => {\n",
              "      let quickchartButtonEl =\n",
              "        document.querySelector('#df-d32ceb53-e022-43d3-b5ff-5970d7205759 button');\n",
              "      quickchartButtonEl.style.display =\n",
              "        google.colab.kernel.accessAllowed ? 'block' : 'none';\n",
              "    })();\n",
              "  </script>\n",
              "</div>\n",
              "    </div>\n",
              "  </div>\n"
            ],
            "application/vnd.google.colaboratory.intrinsic+json": {
              "type": "dataframe",
              "variable_name": "df",
              "summary": "{\n  \"name\": \"df\",\n  \"rows\": 65,\n  \"fields\": [\n    {\n      \"column\": \"Actual\",\n      \"properties\": {\n        \"dtype\": \"number\",\n        \"std\": 26.359961990751163,\n        \"min\": 57.0,\n        \"max\": 174.0,\n        \"num_unique_values\": 29,\n        \"samples\": [\n          174.0,\n          102.0,\n          57.0\n        ],\n        \"semantic_type\": \"\",\n        \"description\": \"\"\n      }\n    },\n    {\n      \"column\": \"Predicted\",\n      \"properties\": {\n        \"dtype\": \"number\",\n        \"std\": 14.349960733378532,\n        \"min\": 84.85111785397142,\n        \"max\": 134.53913302242898,\n        \"num_unique_values\": 65,\n        \"samples\": [\n          114.14827498792155,\n          92.33670974259452,\n          93.23332104175455\n        ],\n        \"semantic_type\": \"\",\n        \"description\": \"\"\n      }\n    }\n  ]\n}"
            }
          },
          "metadata": {},
          "execution_count": 125
        }
      ],
      "source": [
        "y_pred = regressor.predict(X_test)\n",
        "y_pred = y_pred.reshape(65,)\n",
        "y_test = y_test.reshape(65,)\n",
        "df = pd.DataFrame({'Actual': y_test, 'Predicted': y_pred})\n",
        "print (\"comparison between the Actural and Predicted values from the previous LR:\")\n",
        "df"
      ]
    },
    {
      "cell_type": "code",
      "execution_count": 126,
      "metadata": {
        "colab": {
          "base_uri": "https://localhost:8080/"
        },
        "id": "ejq9-E38XJbf",
        "outputId": "35a1c886-d4f8-414d-8d78-33cff8b8139f"
      },
      "outputs": [
        {
          "output_type": "stream",
          "name": "stdout",
          "text": [
            "     target    var1     var2        var4    var5  var6_yes  var3\n",
            "0         0  509.18  417.681  138.000000  393.00         0   137\n",
            "1         0  446.06  666.182   81.000000  352.05         1    57\n",
            "2         1  235.50  398.097   90.000000  339.00         0   101\n",
            "3         0  306.02  518.163  102.000000  439.25         1   216\n",
            "4         0  453.08  600.156  105.000000  422.95         0    36\n",
            "..      ...     ...      ...         ...     ...       ...   ...\n",
            "920       0  422.34  547.259   89.064887  350.45         1    19\n",
            "921       1  342.62  473.919  121.392748  200.85         0   105\n",
            "922       1  265.10  538.170  119.376926  208.35         1   179\n",
            "923       0  397.12  622.386   93.447967  433.45         1    41\n",
            "924       1  242.10  420.429  121.731088  369.20         1     1\n",
            "\n",
            "[925 rows x 7 columns]\n"
          ]
        }
      ],
      "source": [
        "# Filling the var4 values with the predicted values of teh LR_model\n",
        "for i in range(dataset.shape[0]):\n",
        "    if pd.isna(dataset.iloc[i,dataset.columns == 'var4'].values) == True:\n",
        "        X_pred = dataset.iloc[i,dataset1.columns != 'var4'].values\n",
        "        X_pred = X_pred.reshape(1, -1)\n",
        "        y1_pred = regressor.predict(X_pred)\n",
        "        dataset.at[i,'var4'] = y1_pred[0][0]\n",
        "print(dataset)"
      ]
    },
    {
      "cell_type": "code",
      "execution_count": 127,
      "metadata": {
        "id": "nxiLvmlYXJbg"
      },
      "outputs": [],
      "source": [
        "# NOW finally the dataset1 is perfect to apply on it ML_model"
      ]
    },
    {
      "cell_type": "code",
      "execution_count": 128,
      "metadata": {
        "colab": {
          "base_uri": "https://localhost:8080/"
        },
        "id": "P2z4ygQbXJbg",
        "outputId": "96b8e3df-2a8a-4253-e2db-349e5a14275a"
      },
      "outputs": [
        {
          "output_type": "stream",
          "name": "stdout",
          "text": [
            "Score of Linear Regression before PCA is :0.8012264236106602\n",
            "the intercept value is: [2.34592083]\n",
            "the coefiants are:  [[-2.59719898e-03 -4.13997060e-04  2.42251070e-03 -2.99143683e-03\n",
            "   1.23761920e-02  1.40975470e-05]]\n"
          ]
        }
      ],
      "source": [
        "# Now lets apply LR as \"target\" is the real target in the model (I did that to compare models before and after applying the PCA)\n",
        "target_for_LR = 'target'\n",
        "X_LR = dataset1.iloc[:,dataset1.columns != target_for_LR].values # target_for_LR = 'target'\n",
        "y_LR = dataset1.iloc[:,dataset1.columns == target_for_LR].values\n",
        "X_train_LR, X_test_LR, y_train_LR, y_test_LR = train_test_split(X_LR, y_LR, test_size=0.2, random_state=0)\n",
        "\n",
        "regressor_LR = LinearRegression()\n",
        "regressor_LR.fit(X_train_LR, y_train_LR)\n",
        "score_LR = regressor_LR.score(X_test_LR,y_test_LR)\n",
        "\n",
        "print (f\"Score of Linear Regression before PCA is :{score_LR}\")\n",
        "print(\"the intercept value is:\",regressor_LR.intercept_)\n",
        "print(\"the coefiants are: \",regressor_LR.coef_)"
      ]
    },
    {
      "cell_type": "code",
      "execution_count": 129,
      "metadata": {
        "colab": {
          "base_uri": "https://localhost:8080/",
          "height": 816
        },
        "id": "7NMXQNuBXJbg",
        "outputId": "1bb42257-f3dd-459c-95d3-76a52b4e51f1"
      },
      "outputs": [
        {
          "output_type": "stream",
          "name": "stdout",
          "text": [
            "the data after appling the PCA:\n",
            "             PC1         PC2  target\n",
            "0     23.258890 -202.496122       0\n",
            "1   -148.919253  -31.489693       0\n",
            "2    164.342510   -2.330745       1\n",
            "3     -4.026250  -14.790924       0\n",
            "4   -117.803510 -102.417860       0\n",
            "..          ...         ...     ...\n",
            "320 -116.127085   32.658748       0\n",
            "321  139.575587   65.619895       1\n",
            "322  -67.871647  178.219809       1\n",
            "323  -97.721462  -30.422048       0\n",
            "324  107.857226   64.928682       1\n",
            "\n",
            "[325 rows x 3 columns]\n"
          ]
        },
        {
          "output_type": "display_data",
          "data": {
            "text/plain": [
              "<Figure size 600x600 with 1 Axes>"
            ],
            "image/png": "[encoded data removed]"
          },
          "metadata": {}
        }
      ],
      "source": [
        "# Here I applied the PCA Technique I got helped with the PCA function from the link below:\n",
        "# https://www.askpython.com/python/examples/principal-component-analysis\n",
        "def PCA(X, num_components):\n",
        "    # Step-1\n",
        "    X_meaned = X - np.mean(X, axis=0)\n",
        "\n",
        "    # Step-2\n",
        "    cov_mat = np.cov(X_meaned, rowvar=False)\n",
        "\n",
        "    # Step-3\n",
        "    eigen_values, eigen_vectors = np.linalg.eigh(cov_mat)\n",
        "\n",
        "    # Step-4\n",
        "    sorted_index = np.argsort(eigen_values)[::-1]\n",
        "    sorted_eigenvalue = eigen_values[sorted_index]\n",
        "    sorted_eigenvectors = eigen_vectors[:, sorted_index]\n",
        "\n",
        "    # Step-5\n",
        "    eigenvector_subset = sorted_eigenvectors[:, 0:num_components]\n",
        "\n",
        "    # Step-6\n",
        "    X_reduced = np.dot(eigenvector_subset.transpose(), X_meaned.transpose()).transpose()\n",
        "\n",
        "    return X_reduced\n",
        "\n",
        "target_for_PCA = 'target'\n",
        "X_PCA = dataset1.iloc[:,dataset1.columns != target_for_PCA].values\n",
        "y_PCA = dataset1.iloc[:,dataset1.columns == target_for_PCA].values\n",
        "\n",
        "mat_reduced = PCA(X_PCA , 2) # I applied PCA on data to reduce the variable to 2 without losing the target\n",
        "\n",
        "principal_df = pd.DataFrame(mat_reduced , columns = ['PC1','PC2'])\n",
        "principal_df = pd.concat([principal_df , pd.DataFrame(y_PCA,columns=[target_for_PCA])] , axis = 1) # Adding the target on the new dataset\n",
        "\n",
        "plt.figure(figsize = (6,6))\n",
        "sns.scatterplot(data = principal_df , x = 'PC1',y = 'PC2' , hue = target_for_PCA , s = 60 , palette= 'icefire')\n",
        "print (\"the data after appling the PCA:\\n\",principal_df)"
      ]
    },
    {
      "cell_type": "code",
      "execution_count": 130,
      "metadata": {
        "id": "3RQCN9aNXJbh"
      },
      "outputs": [],
      "source": [
        "# Now after I got new dataset called \"principal_df\" extracted form dataset1\n",
        "# I want to apply LR on it to compare the result with the old result before appling PCA"
      ]
    },
    {
      "cell_type": "code",
      "execution_count": 131,
      "metadata": {
        "colab": {
          "base_uri": "https://localhost:8080/"
        },
        "id": "argjPK7QXJbh",
        "outputId": "3ba9379d-5f10-469e-cd7d-beff4512064f"
      },
      "outputs": [
        {
          "output_type": "stream",
          "name": "stdout",
          "text": [
            "% of positive samples in whole data: 0.5076923076923077\n",
            "% of positive samples in train set: [0.51538462]\n",
            "% of positive samples in test set: [0.47692308]\n",
            "Score of LinearFegression after PCA is :0.7559281720248305\n",
            "the intercept value is: [0.51472094]\n",
            "the coefiants are:  [[0.00258654 0.00317506]]\n"
          ]
        }
      ],
      "source": [
        "X_train_PCA, X_test_PCA, y_train_PCA, y_test_PCA = train_test_split(mat_reduced, y_PCA, test_size=0.2, random_state=0)\n",
        "\n",
        "print('% of positive samples in whole data:', sum(principal_df['target'] == 1) / len(principal_df))\n",
        "print('% of positive samples in train set:', sum(y_train_PCA== 1) / len(X_train_PCA))\n",
        "print('% of positive samples in test set:', sum(y_test_PCA== 1) / len(X_test_PCA))\n",
        "\n",
        "regressor_PCA = LinearRegression()\n",
        "regressor_PCA.fit(X_train_PCA, y_train_PCA)\n",
        "score_PCA = regressor_PCA.score(X_test_PCA,y_test_PCA)\n",
        "\n",
        "print (f\"Score of LinearFegression after PCA is :{score_PCA}\")\n",
        "print(\"the intercept value is:\",regressor_PCA.intercept_)\n",
        "print(\"the coefiants are: \",regressor_PCA.coef_)"
      ]
    },
    {
      "cell_type": "code",
      "execution_count": 132,
      "metadata": {
        "colab": {
          "base_uri": "https://localhost:8080/"
        },
        "id": "R1XBtIr7XJbh",
        "outputId": "ce371451-5c39-4ad6-cb92-9bb8ed20bc20"
      },
      "outputs": [
        {
          "output_type": "stream",
          "name": "stdout",
          "text": [
            "Score of Linear Regression before PCA is :0.8012264236106602\n",
            "Score of LinearFegression after PCA is :0.7559281720248305\n"
          ]
        }
      ],
      "source": [
        "print (f\"Score of Linear Regression before PCA is :{score_LR}\")\n",
        "print (f\"Score of LinearFegression after PCA is :{score_PCA}\")\n",
        "# As we see here the score before PCA better than After PCA so I will work scince now on the dataset1 which is the data before PCA"
      ]
    },
    {
      "cell_type": "code",
      "execution_count": 133,
      "metadata": {
        "colab": {
          "base_uri": "https://localhost:8080/"
        },
        "id": "cvcEfn7eXJbh",
        "outputId": "48df9a33-71c6-4f11-dce4-871b69245462"
      },
      "outputs": [
        {
          "output_type": "stream",
          "name": "stdout",
          "text": [
            "% of positive samples in whole data: 0.5076923076923077\n",
            "% of positive samples in train set: 0.5076923076923077\n",
            "% of positive samples in test set: 0.5076923076923077\n"
          ]
        }
      ],
      "source": [
        "# I seprated the data here to apply LogisticRegression and as we see here the data is siprated equaly\n",
        "\n",
        "# Spliting data\n",
        "x_train_LO, x_test_LO, y_train_LO, y_test_LO = train_test_split(dataset1.loc[:,dataset1.columns != 'target' ], dataset1['target'],\n",
        "                                                    test_size=0.2, stratify=dataset1['target'])\n",
        "\n",
        "# Find and print the proportion of positive samples in train and test sets, make sure they are approx same\n",
        "print('% of positive samples in whole data:', sum(dataset1['target'] == 1) / len(dataset1))\n",
        "print('% of positive samples in train set:', sum(y_train_LO== 1) / len(x_train_LO))\n",
        "print('% of positive samples in test set:', sum(y_test_LO== 1) / len(x_test_LO))"
      ]
    },
    {
      "cell_type": "code",
      "execution_count": 134,
      "metadata": {
        "colab": {
          "base_uri": "https://localhost:8080/"
        },
        "id": "Q6Ck9hcGXJbi",
        "outputId": "246d69e2-8644-47b4-9662-9671aec8e3ca"
      },
      "outputs": [
        {
          "output_type": "stream",
          "name": "stdout",
          "text": [
            "Testing accuracy Logistic Regression= 0.9538461538461539\n",
            "Testing precision Logistic Regression= 0.9411764705882353\n",
            "Testing recall Logistic Regression= 0.9696969696969697\n",
            "Logistic Regression score = 0.9538461538461539\n"
          ]
        }
      ],
      "source": [
        "# Appliing Logistic Regression\n",
        "from sklearn.linear_model import LogisticRegression\n",
        "from sklearn import metrics\n",
        "\n",
        "clf = LogisticRegression(random_state=0).fit(x_train_LO, y_train_LO)\n",
        "y_pred_LO = clf.predict(x_test_LO)\n",
        "\n",
        "print('Testing accuracy Logistic Regression= {}'.format(metrics.accuracy_score(y_test_LO, y_pred_LO)))\n",
        "print('Testing precision Logistic Regression= {}'.format(metrics.precision_score(y_test_LO, y_pred_LO)))\n",
        "print('Testing recall Logistic Regression= {}'.format(metrics.recall_score(y_test_LO, y_pred_LO)))\n",
        "print('Logistic Regression score = {}'.format(clf.score(x_test_LO, y_test_LO)))\n"
      ]
    },
    {
      "cell_type": "code",
      "execution_count": 135,
      "metadata": {
        "colab": {
          "base_uri": "https://localhost:8080/"
        },
        "id": "hizKz3lCXJbi",
        "outputId": "9dd543e8-e91e-49da-fbb7-cf6eba8d9110"
      },
      "outputs": [
        {
          "output_type": "stream",
          "name": "stdout",
          "text": [
            "Testing accuracy GaussianNB= 0.9692307692307692\n",
            "Testing precision GaussianNB= 0.9696969696969697\n",
            "Testing recall GaussianNB= 0.9696969696969697\n",
            "GaussianNB score = 0.9692307692307692\n"
          ]
        }
      ],
      "source": [
        "# Appliing GaussianNB\n",
        "from sklearn.naive_bayes import GaussianNB\n",
        "from sklearn.metrics import accuracy_score\n",
        "\n",
        "gauss_nb = GaussianNB()\n",
        "gauss_nb.fit(x_train_LO, y_train_LO)\n",
        "y_pred_GNB = gauss_nb.predict(x_test_LO)\n",
        "\n",
        "print('Testing accuracy GaussianNB= {}'.format(metrics.accuracy_score(y_test_LO, y_pred_GNB)))\n",
        "print('Testing precision GaussianNB= {}'.format(metrics.precision_score(y_test_LO, y_pred_GNB)))\n",
        "print('Testing recall GaussianNB= {}'.format(metrics.recall_score(y_test_LO, y_pred_GNB)))\n",
        "print('GaussianNB score = {}'.format(gauss_nb.score(x_test_LO, y_test_LO)))\n"
      ]
    },
    {
      "cell_type": "code",
      "execution_count": 136,
      "metadata": {
        "colab": {
          "base_uri": "https://localhost:8080/"
        },
        "id": "DqAoZx44XJbi",
        "outputId": "2bb09c26-57ea-428b-96d6-46162806157d"
      },
      "outputs": [
        {
          "output_type": "stream",
          "name": "stdout",
          "text": [
            "Testing accuracy KNeighborsClassifier= 0.9692307692307692\n",
            "Testing precision KNeighborsClassifier= 1.0\n",
            "Testing recall KNeighborsClassifier= 0.9393939393939394\n",
            "KNeighborsClassifier score = 0.9692307692307692\n"
          ]
        }
      ],
      "source": [
        "# Appliing StandardScaler\n",
        "from sklearn.preprocessing import StandardScaler\n",
        "\n",
        "scaler = StandardScaler()\n",
        "x_train_KNN = scaler.fit_transform(x_train_LO)\n",
        "x_test_KNN = scaler.transform(x_test_LO)\n",
        "\n",
        "# Appliing KNeighborsClassifier\n",
        "from sklearn.neighbors import KNeighborsClassifier\n",
        "from sklearn.metrics import accuracy_score\n",
        "\n",
        "knn = KNeighborsClassifier()\n",
        "knn.fit(x_train_KNN, y_train_LO)\n",
        "y_pred_KNN = knn.predict(x_test_KNN)\n",
        "\n",
        "print('Testing accuracy KNeighborsClassifier= {}'.format(metrics.accuracy_score(y_test_LO, y_pred_KNN)))\n",
        "print('Testing precision KNeighborsClassifier= {}'.format(metrics.precision_score(y_test_LO, y_pred_KNN)))\n",
        "print('Testing recall KNeighborsClassifier= {}'.format(metrics.recall_score(y_test_LO, y_pred_KNN)))\n",
        "print('KNeighborsClassifier score = {}'.format(knn.score(x_test_KNN, y_test_LO)))"
      ]
    },
    {
      "cell_type": "code",
      "execution_count": 137,
      "metadata": {
        "colab": {
          "base_uri": "https://localhost:8080/",
          "height": 490
        },
        "id": "A-V15DFAXJbi",
        "outputId": "55280c2b-6bdc-4f91-d0d7-9c2c9f0ccae1"
      },
      "outputs": [
        {
          "output_type": "display_data",
          "data": {
            "text/plain": [
              "<Figure size 640x480 with 1 Axes>"
            ],
            "image/png": "[encoded data removed]"
          },
          "metadata": {}
        },
        {
          "output_type": "stream",
          "name": "stdout",
          "text": [
            "Best K: 3\n"
          ]
        }
      ],
      "source": [
        "# Appling cross_val\n",
        "from sklearn.model_selection import cross_val_score\n",
        "import matplotlib.pylab as plt\n",
        "from matplotlib.ticker import MaxNLocator\n",
        "import numpy as np\n",
        "%matplotlib inline\n",
        "\n",
        "Ks = list(range(1, 10))\n",
        "cv_scores = []\n",
        "for K in Ks:\n",
        "    knn = KNeighborsClassifier(n_neighbors=K)\n",
        "    scores = cross_val_score(knn, x_train_KNN, y_train_LO,\n",
        "                             cv=7, scoring='accuracy')\n",
        "    avg_score = np.mean(scores)\n",
        "    cv_scores.append(avg_score)\n",
        "\n",
        "plt.title('The effect of changing K on accuracy')\n",
        "plt.plot(Ks, cv_scores)\n",
        "plt.xlabel('K')\n",
        "plt.xticks(Ks)\n",
        "plt.ylabel('CV Average accuracy')\n",
        "plt.show()\n",
        "print('Best K:', Ks[np.argmax(cv_scores)])"
      ]
    },
    {
      "cell_type": "code",
      "execution_count": 138,
      "metadata": {
        "colab": {
          "base_uri": "https://localhost:8080/"
        },
        "id": "QyBRbGdbXJbj",
        "outputId": "f5b73319-9d0e-4f98-e501-727f1803fe1f"
      },
      "outputs": [
        {
          "output_type": "stream",
          "name": "stdout",
          "text": [
            "Best parameters set found on development set:\n",
            "\n",
            "{'metric': 'manhattan', 'n_neighbors': 1, 'weights': 'uniform'}\n",
            "Testing accuracy grid_search_clf= 0.9692307692307692\n",
            "Testing precision grid_search_clf= 0.9696969696969697\n",
            "Testing recall grid_search_clf= 0.9696969696969697\n",
            "grid_search_clf score = 0.9692307692307692\n"
          ]
        }
      ],
      "source": [
        "from sklearn.model_selection import GridSearchCV\n",
        "\n",
        "# Modify the next lines to run GridSearchCV with cv=7\n",
        "param_grid = {'n_neighbors':list(range(1, 10)),\n",
        "              'weights':['uniform', 'distance'],\n",
        "              'metric':['euclidean', 'manhattan', 'chebyshev', 'cosine']\n",
        "              }\n",
        "\n",
        "grid_search_clf = GridSearchCV(estimator=KNeighborsClassifier(),\n",
        "                               cv=7, scoring='accuracy',\n",
        "                               param_grid=param_grid\n",
        "                               )\n",
        "\n",
        "grid_search_clf.fit(x_train_KNN, y_train_LO)\n",
        "means = grid_search_clf.cv_results_['mean_test_score']\n",
        "stds = grid_search_clf.cv_results_['std_test_score']\n",
        "print(\"Best parameters set found on development set:\")\n",
        "print()\n",
        "print(grid_search_clf.best_params_)\n",
        "\n",
        "y_pred_KNN = grid_search_clf.predict(x_test_KNN)\n",
        "\n",
        "print('Testing accuracy grid_search_clf= {}'.format(metrics.accuracy_score(y_test_LO, y_pred_KNN)))\n",
        "print('Testing precision grid_search_clf= {}'.format(metrics.precision_score(y_test_LO, y_pred_KNN)))\n",
        "print('Testing recall grid_search_clf= {}'.format(metrics.recall_score(y_test_LO, y_pred_KNN)))\n",
        "print('grid_search_clf score = {}'.format(grid_search_clf.score(x_test_KNN, y_test_LO)))\n"
      ]
    },
    {
      "cell_type": "code",
      "execution_count": 139,
      "metadata": {
        "colab": {
          "base_uri": "https://localhost:8080/"
        },
        "id": "DUFGOxMSXJbj",
        "outputId": "7f9a3779-ffd9-449b-d299-5368a6879335"
      },
      "outputs": [
        {
          "output_type": "stream",
          "name": "stdout",
          "text": [
            "Score of Linear Regression before PCA is :0.8012264236106602\n",
            "Logistic Regression score = 0.9538461538461539\n",
            "GaussianNB score = 0.9692307692307692\n",
            "grid_search_clf score = 0.9692307692307692\n"
          ]
        }
      ],
      "source": [
        "# Now we came to the comparison\n",
        "print (f\"Score of Linear Regression before PCA is :{score_LR}\") #0.8012264236106603\n",
        "print('Logistic Regression score = {}'.format(clf.score(x_test_LO, y_test_LO))) #0.9538461538461539\n",
        "print('GaussianNB score = {}'.format(gauss_nb.score(x_test_LO, y_test_LO))) #0.9692307692307692\n",
        "print('grid_search_clf score = {}'.format(grid_search_clf.score(x_test_KNN, y_test_LO))) #0.9692307692307692\n",
        "# As we see here the GNB and GridSearchCV have the highest score"
      ]
    },
    {
      "cell_type": "code",
      "execution_count": 140,
      "metadata": {
        "id": "keIojb6wXJbj"
      },
      "outputs": [],
      "source": [
        "# Now I created another data from dataset1 by applying PCA on it\n",
        "# I used the official PCA package not my function (just incase there was some problem in my PCA function)"
      ]
    },
    {
      "cell_type": "code",
      "execution_count": 141,
      "metadata": {
        "colab": {
          "base_uri": "https://localhost:8080/"
        },
        "id": "5lVawRJ3XJbj",
        "outputId": "9d38ebf0-82e8-4833-b043-c25b288f872b"
      },
      "outputs": [
        {
          "output_type": "stream",
          "name": "stdout",
          "text": [
            "% of positive samples in train set: [0.49779736]\n",
            "% of positive samples in test set: [0.53061224]\n",
            "The score of GNB model when LogisticRegression model were applied 0.9693877551020408\n"
          ]
        },
        {
          "output_type": "stream",
          "name": "stderr",
          "text": [
            "/usr/local/lib/python3.10/dist-packages/sklearn/utils/validation.py:1143: DataConversionWarning: A column-vector y was passed when a 1d array was expected. Please change the shape of y to (n_samples, ), for example using ravel().\n",
            "  y = column_or_1d(y, warn=True)\n"
          ]
        }
      ],
      "source": [
        "# train the dataset using the PCA components using GNB model where the ML model is LogisticRegression\n",
        "from sklearn.pipeline import Pipeline\n",
        "from sklearn.preprocessing import StandardScaler\n",
        "from sklearn.decomposition import PCA\n",
        "from sklearn.linear_model import LogisticRegression\n",
        "\n",
        "# Create a standard scaler, pca with the found number of components and logistic regression model\n",
        "_sc = StandardScaler()\n",
        "_pca = PCA(n_components = 2)\n",
        "_model = LogisticRegression()\n",
        "\n",
        "log_regress_model_pip = Pipeline([\n",
        "    ('std_scaler', _sc),\n",
        "    ('pca', _pca),\n",
        "    ('regressor', _model)\n",
        "])\n",
        "random_state = 20\n",
        "X_train, X_test, y_train, y_test = \\\n",
        "    train_test_split(X_PCA, y_PCA,\n",
        "                     test_size=0.3,\n",
        "                     shuffle=True,\n",
        "                     random_state=random_state)\n",
        "print('% of positive samples in train set:', sum(y_train== 1) / len(X_train))\n",
        "print('% of positive samples in test set:', sum(y_test== 1) / len(X_test))\n",
        "log_regress_model_pip.fit(X_train,y_train)\n",
        "print (f\"The score of GNB model when LogisticRegression model were applied {log_regress_model_pip.score(X_test,y_test)}\")\n"
      ]
    },
    {
      "cell_type": "code",
      "execution_count": 142,
      "metadata": {
        "colab": {
          "base_uri": "https://localhost:8080/"
        },
        "id": "ze71aF-JXJbj",
        "outputId": "b652ea82-9c19-4aca-fc93-531f0e93e699"
      },
      "outputs": [
        {
          "output_type": "stream",
          "name": "stdout",
          "text": [
            "% of positive samples in train set: [0.49779736]\n",
            "% of positive samples in test set: [0.53061224]\n",
            "The score of GNB model when GaussianNB model were applied 0.9897959183673469\n"
          ]
        },
        {
          "output_type": "stream",
          "name": "stderr",
          "text": [
            "/usr/local/lib/python3.10/dist-packages/sklearn/utils/validation.py:1143: DataConversionWarning: A column-vector y was passed when a 1d array was expected. Please change the shape of y to (n_samples, ), for example using ravel().\n",
            "  y = column_or_1d(y, warn=True)\n"
          ]
        }
      ],
      "source": [
        "# Train the dataset using the PCA components using GNB model where the ML model is GaussianNB\n",
        "_sc = StandardScaler()\n",
        "_pca = PCA(n_components = 3)\n",
        "_model = GaussianNB()\n",
        "\n",
        "GNB_model_pip = Pipeline([\n",
        "    ('std_scaler', _sc),\n",
        "    ('pca', _pca),\n",
        "    ('gaussianNB', _model)\n",
        "])\n",
        "random_state = 20\n",
        "X_train, X_test, y_train, y_test = \\\n",
        "    train_test_split(X_PCA, y_PCA,\n",
        "                     test_size=0.3,\n",
        "                     shuffle=True,\n",
        "                     random_state=random_state)\n",
        "print('% of positive samples in train set:', sum(y_train== 1) / len(X_train))\n",
        "print('% of positive samples in test set:', sum(y_test== 1) / len(X_test))\n",
        "GNB_model_pip.fit(X_train,y_train)\n",
        "print (f\"The score of GNB model when GaussianNB model were applied {GNB_model_pip.score(X_test,y_test)}\")\n"
      ]
    },
    {
      "cell_type": "code",
      "execution_count": 143,
      "metadata": {
        "colab": {
          "base_uri": "https://localhost:8080/"
        },
        "id": "0BcN0-VXXJbk",
        "outputId": "ae1e409d-126f-4530-c03e-307e0cce3812"
      },
      "outputs": [
        {
          "output_type": "stream",
          "name": "stdout",
          "text": [
            "% of positive samples in train set: [0.49779736]\n",
            "% of positive samples in test set: [0.53061224]\n",
            "The score of GNB model when KNN model were applied 0.46938775510204084\n"
          ]
        },
        {
          "output_type": "stream",
          "name": "stderr",
          "text": [
            "/usr/local/lib/python3.10/dist-packages/sklearn/neighbors/_classification.py:215: DataConversionWarning: A column-vector y was passed when a 1d array was expected. Please change the shape of y to (n_samples,), for example using ravel().\n",
            "  return self._fit(X, y)\n"
          ]
        }
      ],
      "source": [
        "# Train the dataset using the PCA components using GNB model where the ML model is KNN_model\n",
        "_sc = StandardScaler()\n",
        "_pca = PCA(n_components = 3)\n",
        "_model = KNeighborsClassifier()\n",
        "\n",
        "KNN_model_pip = Pipeline([\n",
        "    ('std_scaler', _sc),\n",
        "    ('pca', _pca),\n",
        "    ('kneigbhborsclassifier', _model)\n",
        "])\n",
        "random_state = 20\n",
        "X_train, X_test, y_train, y_test = \\\n",
        "    train_test_split(X_PCA, y_PCA,\n",
        "                     test_size=0.3,\n",
        "                     shuffle=True,\n",
        "                     random_state=random_state)\n",
        "\n",
        "scaler = StandardScaler()\n",
        "X_train = scaler.fit_transform(X_train)\n",
        "x_test = scaler.transform(X_test)\n",
        "\n",
        "\n",
        "print('% of positive samples in train set:', sum(y_train== 1) / len(X_train))\n",
        "print('% of positive samples in test set:', sum(y_test== 1) / len(X_test))\n",
        "KNN_model_pip.fit(X_train,y_train)\n",
        "y_pred = KNN_model_pip.predict(X_test)\n",
        "print (f\"The score of GNB model when KNN model were applied {KNN_model_pip.score(X_test,y_test)}\")"
      ]
    },
    {
      "cell_type": "code",
      "execution_count": 144,
      "metadata": {
        "id": "F2QqexsOXJbk"
      },
      "outputs": [],
      "source": [
        "# After PCA:\n",
        "# The score of GNB model when LogisticRegression model were applied 0.9693877551020408\n",
        "# The score of GNB model when GaussianNB model were applied 0.9897959183673469\n",
        "# The score of GNB model when KNN model were applied 0.46938775510204084\n",
        "\n",
        "# AS we see here the GaussianNB model is the best after PCA = 0.9897959183673469\n",
        "# Before PCA: GaussianNB has also the highest score = 0.9692307692307692"
      ]
    }
  ],
  "metadata": {
    "kernelspec": {
      "display_name": "Python 3 (ipykernel)",
      "language": "python",
      "name": "python3"
    },
    "language_info": {
      "codemirror_mode": {
        "name": "ipython",
        "version": 3
      },
      "file_extension": ".py",
      "mimetype": "text/x-python",
      "name": "python",
      "nbconvert_exporter": "python",
      "pygments_lexer": "ipython3",
      "version": "3.9.12"
    },
    "colab": {
      "provenance": []
    }
  },
  "nbformat": 4,
  "nbformat_minor": 0
}
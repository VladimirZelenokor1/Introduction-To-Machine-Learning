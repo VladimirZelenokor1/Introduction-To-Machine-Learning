{
 "cells": [
  {
   "cell_type": "markdown",
   "metadata": {},
   "source": [
    "# Bonus assignement"
   ]
  },
  {
   "cell_type": "markdown",
   "metadata": {},
   "source": [
    "## Instructions\n",
    "- Your submission should be the `.ipynb` file with your name,\n",
    "  like `FirstNameLastName.ipynb`. It should include the answers to the questions in\n",
    "  markdown cells.\n",
    "- You are expected to follow the best practices for code writing and model\n",
    "training. Poor coding style will be penalized.\n",
    "- You are allowed to discuss ideas with your peers, but no sharing of code.\n",
    "Plagiarism in the code will result in failing. If you use code from the\n",
    "internet, cite it. \n",
    "- Read each instruction carefully and provide complete answers to each question/task\n",
    "- You are allowed to use Keras or Pytorch \n",
    "\n",
    "> **_NOTE:_**  Write your email address in the cell below"
   ]
  },
  {
   "cell_type": "markdown",
   "metadata": {},
   "source": [
    "*Your email address here*"
   ]
  },
  {
   "cell_type": "markdown",
   "metadata": {},
   "source": [
    "### I- Open questions (3 points)\n",
    "\n",
    "Read [this article](https://link.springer.com/referenceworkentry/10.1007/978-0-387-73003-5_304) and answer the following questions:\n",
    "\n",
    "1. What is incremental learning?\n",
    "    - *Answer*\n",
    "2. Why is it important for us to create neural networks that would someday be able to learn incrementally?\n",
    "    - *Answer*\n",
    "3. What is catastrophic forgetting?\n",
    "     - *Answer*"
   ]
  },
  {
   "cell_type": "markdown",
   "metadata": {},
   "source": [
    "### II- Train simple CNN model for digit classification (5 points)"
   ]
  },
  {
   "cell_type": "markdown",
   "metadata": {},
   "source": [
    "Instructions:\n",
    "- Load MNIST dataset and split it in **Tr**ainning (`Tr`) and **Te**ting set (`Te`), 80% and 20% respectively.\n",
    "- Train a simple CNN for digit classification on the training set. \n",
    "- After fine tuning your CNN, evaluate the `overall` and the `class-wise` performances on `Te`. \n",
    ">**NOTE:** For the class-wise performance, you should plot (e.g., bar plots) the performance of your model on each class."
   ]
  },
  {
   "cell_type": "markdown",
   "metadata": {},
   "source": [
    "### III- Create different tasks from the MNIST dataset (2 points)"
   ]
  },
  {
   "cell_type": "markdown",
   "metadata": {},
   "source": [
    "Split `Tr` into 3 datasets (tasks) according to the following distribution.\n",
    "\n",
    "- Task 1 contains digits of classes 0, 1, and 2. \n",
    "- Task 2 contains classes 3, 4, and 5. \n",
    "- Task 3 contains classes 6, 7, 8, and 9.\n",
    " \n",
    "*The following picture showcases the general scheme*\n",
    "<center>\n",
    "<img src='https://drive.google.com/uc?id=1vdDgdN9BGQ2Jl3Yg4YiPvfb5fcAeJZJ-' style=\"width:500px;\"> \n",
    "</center>\n"
   ]
  },
  {
   "cell_type": "markdown",
   "metadata": {},
   "source": [
    "### IV- Class-incremental learning implementation (8 points)"
   ]
  },
  {
   "cell_type": "markdown",
   "metadata": {},
   "source": [
    "Using the different tasks (datasets) you created previously, implement a CNN for class incremental learning according to the following instructions. \n",
    "- The neural network architecture is not given, choose and tune your architecture following DNNs best practices. Similarly for the training no hyperparameters are given to you, you should choose them and justify your choice. Hyperparameter tuning is not mandatory but doing it would be a plus.\n",
    "- Your network should have shared feature extractor (shared layers) part and separate classifier head (e.g., fully connected layers) for each task (see the figure below).\n",
    "- When training on a new task, the shared layers part will get updated along with the head of the current task. \n",
    "- After training each task (Task 1 & 2), evaluate (and plot) the performances of the current and the previous tasks on `Te`.\n",
    "    - Once the training on the last task is complete, test the model on `Te` and compare the performance of the network with the CNN trained in II, i.e., plot the `overall` and the `class-wise` performances for classical learning and incremental learning.\n",
    "\n",
    "<center>\n",
    "<img src='https://drive.google.com/uc?id=1HfwcMP7jGoJnYEMu7jDqloQNogEZsjrJ'  style=\"width:250px;\"> \n",
    "</center>\n"
   ]
  },
  {
   "cell_type": "markdown",
   "metadata": {},
   "source": [
    "### V- Report (2 points)\n",
    "Write a short report on the results you got and what you learned from this activity"
   ]
  }
 ],
 "metadata": {
  "kernelspec": {
   "display_name": "Python 3.9.7 64-bit",
   "language": "python",
   "name": "python3"
  },
  "language_info": {
   "name": "python",
   "version": "3.9.7"
  },
  "orig_nbformat": 4,
  "vscode": {
   "interpreter": {
    "hash": "aee8b7b246df8f9039afb4144a1f6fd8d2ca17a180786b69acc140d282b71a49"
   }
  }
 },
 "nbformat": 4,
 "nbformat_minor": 2
}
